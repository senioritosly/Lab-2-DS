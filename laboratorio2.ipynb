{
  "cells": [
    {
      "cell_type": "markdown",
      "metadata": {
        "id": "U1CiAMjfDIOW"
      },
      "source": [
        "# Red Neuronal Profunda (DNN) para clasificación MNIST\n",
        "\n",
        "Aplicaremos todos nuestros conocimientos para crear una DNN, frecuentemente llamada también una Artificial Neural Network (ANN).  El problema que vamos a trabajar se conoce como el \"Hola Mundo\" del aprendizaje profundo porque para la mayoría de estudiantes este es el primer algoritmo de aprendizaje profundo que ven.\n",
        "\n",
        "El conjunto de datos se llama MNIST y se refiere al reconocimiento de dígitos escritos a mano.  Pueden encontrar más información en el sitio web de Yann LeCun (Director of AI Research, Facebook).  El es uno de los pioneros de todo este tema, así como de otras metodologías más complejas como las Redes Neurales Convolucionales (CNN) que se utilizan hoy día.\n",
        "\n",
        "El conjunto de datos tiene 70,000 imágenes (28x28 pixels) de dígitos escritos a mano (1 dígito por imagen).\n",
        "\n",
        "La meta es escribir un algoritmo que detecta qué dígito ha sido escrito.  Como solo hay 10 dígitos (0 al 9), este es un problema de clasificación con 10 clases.\n",
        "\n",
        "Nuestra meta será construir una RN con 2 capas escondidas."
      ]
    },
    {
      "cell_type": "markdown",
      "metadata": {
        "id": "528142UfDIOY"
      },
      "source": [
        "## Importar los paquetes relevantes\n",
        "\n",
        "TensorFlow incluye un proveedor de datos de MNIST que utilizaremos acá.  Viene con el módulo **\"tensorflow.keras.datasets\"**."
      ]
    },
    {
      "cell_type": "code",
      "execution_count": 25,
      "metadata": {
        "tags": [],
        "id": "bGRghxcrDIOZ"
      },
      "outputs": [],
      "source": [
        "import numpy as np\n",
        "import tensorflow as tf\n",
        "import pandas as pd\n",
        "import time\n",
        "from tensorflow.keras.optimizers import Adam"
      ]
    },
    {
      "cell_type": "markdown",
      "metadata": {
        "id": "fb32mLgLDIOa"
      },
      "source": [
        "La siguiente instrucción, cuando se corre por primera vez, descarga el conjunto de datos en lo indicado por el parámetro path, relativo a  ~/.keras/datasets).  Como si se hubiera ejecutado Lo siguiente:\n",
        "\n",
        "tf.keras.datasets.mnist.load_data(\n",
        "    path='mnist.npz'\n",
        ")\n",
        "\n",
        "luego separa los datos en un conjunto para entrenamiento y otro para pruebas.\n",
        "\n",
        "Si se ejecuta más de una vez, ya no descarga el archivo."
      ]
    },
    {
      "cell_type": "code",
      "execution_count": 2,
      "metadata": {
        "colab": {
          "base_uri": "https://localhost:8080/"
        },
        "id": "sAMmIu8mDIOa",
        "outputId": "2ce919f4-95f0-4d51-a84c-27f58c28c4d1"
      },
      "outputs": [
        {
          "output_type": "stream",
          "name": "stdout",
          "text": [
            "Downloading data from https://storage.googleapis.com/tensorflow/tf-keras-datasets/mnist.npz\n",
            "\u001b[1m11490434/11490434\u001b[0m \u001b[32m━━━━━━━━━━━━━━━━━━━━\u001b[0m\u001b[37m\u001b[0m \u001b[1m0s\u001b[0m 0us/step\n"
          ]
        }
      ],
      "source": [
        "(X_entreno, y_entreno), (X_prueba, y_prueba) = tf.keras.datasets.mnist.load_data()\n",
        "assert X_entreno.shape == (60000, 28, 28)\n",
        "assert X_prueba.shape == (10000, 28, 28)\n",
        "assert y_entreno.shape == (60000,)\n",
        "assert y_prueba.shape == (10000,)"
      ]
    },
    {
      "cell_type": "markdown",
      "metadata": {
        "id": "fdqzlAeyDIOb"
      },
      "source": [
        "## Datos\n",
        "\n",
        "Esta sección es donde pre-procesaremos nuestros datos."
      ]
    },
    {
      "cell_type": "markdown",
      "metadata": {
        "id": "yGaBNBl3DIOb"
      },
      "source": [
        "Por default, TF2 tiene conjuntos de datos de entrenamiento y de prueba, pero no tiene un conjunto de validación, por lo que debemos dividirlo por nuestra cuenta\n",
        "\n",
        "Lo haremos del mismo tamaño que el conjunto de prueba"
      ]
    },
    {
      "cell_type": "code",
      "execution_count": 3,
      "metadata": {
        "id": "2U1S4gF2DIOb"
      },
      "outputs": [],
      "source": [
        "num_obs_validacion = y_prueba.shape[0]"
      ]
    },
    {
      "cell_type": "markdown",
      "metadata": {
        "id": "27AEIAB_DIOc"
      },
      "source": [
        "Usaremos una variable dedicada para el número de muestras de prueba"
      ]
    },
    {
      "cell_type": "code",
      "execution_count": 4,
      "metadata": {
        "id": "yX91yZJuDIOc"
      },
      "outputs": [],
      "source": [
        "num_obs_prueba = y_prueba.shape[0]"
      ]
    },
    {
      "cell_type": "markdown",
      "metadata": {
        "id": "Nib_Pxr-DIOc"
      },
      "source": [
        "Generalmente preferimos \"normalizar\" nuestros datos en alguna forma para que el resultado sea numéricamente más estable.  En este caso simplemente preferimos tener entradas entre 0 y 1, por lo que definimos una función, que reciba la imagen MNIST.\n",
        "\n",
        "Como los posibles valores de las entradas son entre 0 y 255 (256 posibles tonos de gris), al dividirlos por 255 obtenemos el resultado deseado."
      ]
    },
    {
      "cell_type": "code",
      "execution_count": 5,
      "metadata": {
        "tags": [],
        "id": "23NtWKVXDIOc"
      },
      "outputs": [],
      "source": [
        "X_entreno_normalizado = X_entreno / 255"
      ]
    },
    {
      "cell_type": "markdown",
      "metadata": {
        "id": "ORbPAT_ODIOd"
      },
      "source": [
        "Finalmente, normalizaremos y convertiremos los datos de pruebas en tandas.  Los normalizamos para que tengan la misma magnitud que los datos de entrenamiento y validación.\n",
        "\n",
        "No hay necesidad de \"barajearlo\" ya que no estaremos entrenando con los datos de prueba.  Habra una sola tanda, igual al tamaño de los datos de prueba."
      ]
    },
    {
      "cell_type": "code",
      "execution_count": 6,
      "metadata": {
        "id": "htQVsNOaDIOd"
      },
      "outputs": [],
      "source": [
        "X_prueba_normalizado = X_prueba / 255"
      ]
    },
    {
      "cell_type": "markdown",
      "metadata": {
        "id": "5kF8fhRyDIOd"
      },
      "source": [
        "Una vez se han \"normalizado\" los datos, podemos proceder a extraer los datos de entrenamiento y de validación.\n",
        "\n",
        "Nuestros datos de validación serán 10000 para ser igual al conjunto de prueba.\n",
        "\n",
        "Finalmente, creamos una tanda con un tamaño de tanda igual al total de muestras de validación."
      ]
    },
    {
      "cell_type": "code",
      "execution_count": 8,
      "metadata": {
        "id": "wwBN6LEpDIOd"
      },
      "outputs": [],
      "source": [
        "X_validacion = X_entreno_normalizado[-num_obs_validacion: , : , : ]\n",
        "y_validacion = y_entreno[-num_obs_validacion:]"
      ]
    },
    {
      "cell_type": "markdown",
      "metadata": {
        "id": "J0CMQgPbDIOd"
      },
      "source": [
        "Similarmente, los datos de entrenamiento son todos los demás por lo que nos salteamos tantas observaciones como las hay en el conjunto de validación."
      ]
    },
    {
      "cell_type": "code",
      "execution_count": 9,
      "metadata": {
        "id": "WZ33LJ9JDIOd"
      },
      "outputs": [],
      "source": [
        "X_entreno = X_entreno_normalizado[ : X_entreno_normalizado.shape[0] - num_obs_validacion, : , : ]\n",
        "y_entreno = y_entreno[ : y_entreno.shape[0] - num_obs_validacion]\n",
        "num_obs_entreno = y_entreno.shape[0]"
      ]
    },
    {
      "cell_type": "markdown",
      "metadata": {
        "id": "x78dnKEPDIOd"
      },
      "source": [
        "Convertir de Arreglos Numpy a Tensores"
      ]
    },
    {
      "cell_type": "code",
      "execution_count": 10,
      "metadata": {
        "id": "NJNP6fEXDIOd"
      },
      "outputs": [],
      "source": [
        "datos_entreno = tf.data.Dataset.from_tensor_slices((X_entreno, y_entreno))\n",
        "datos_validacion = tf.data.Dataset.from_tensor_slices((X_validacion, y_validacion))\n",
        "datos_prueba = tf.data.Dataset.from_tensor_slices((X_prueba, y_prueba))"
      ]
    },
    {
      "cell_type": "markdown",
      "metadata": {
        "id": "fdaCVmzVDIOe"
      },
      "source": [
        "Barajear y hacer tandas con el conjunto de datos de entrenamiento"
      ]
    },
    {
      "cell_type": "code",
      "execution_count": 11,
      "metadata": {
        "id": "Df9Twd3ZDIOe"
      },
      "outputs": [],
      "source": [
        "TAMANIO_TANDA = 100\n",
        "datos_entreno = datos_entreno.shuffle(buffer_size = num_obs_entreno).batch(TAMANIO_TANDA)"
      ]
    },
    {
      "cell_type": "markdown",
      "metadata": {
        "id": "BrIpz0JKDIOe"
      },
      "source": [
        "Hacer tandas con los conjunto de validación y prueba, no se necesita barajearlos"
      ]
    },
    {
      "cell_type": "code",
      "execution_count": 12,
      "metadata": {
        "id": "BaJWreKYDIOe"
      },
      "outputs": [],
      "source": [
        "datos_validacion = datos_validacion.batch(TAMANIO_TANDA)\n",
        "datos_prueba = datos_prueba.batch(TAMANIO_TANDA)"
      ]
    },
    {
      "cell_type": "markdown",
      "metadata": {
        "id": "PoVLM9yxDIOe"
      },
      "source": [
        "## Modelo"
      ]
    },
    {
      "cell_type": "markdown",
      "metadata": {
        "id": "7GMBvNgZDIOf"
      },
      "source": [
        "### Delineamos el modelo\n",
        "\n",
        "Cuando pensamos sobre un algoritmo de aprenzaje profundo, casi siempre solo lo imaginamos.  Asi que esta vez, hagámoslo.  :)"
      ]
    },
    {
      "cell_type": "code",
      "execution_count": 13,
      "metadata": {
        "tags": [],
        "id": "oGnUIlPoDIOf"
      },
      "outputs": [],
      "source": [
        "tamanio_entrada = 784\n",
        "tamanio_salida = 10"
      ]
    },
    {
      "cell_type": "markdown",
      "metadata": {
        "id": "WPD8FyijDIOf"
      },
      "source": [
        "Usaremos el mismo ancho para ambas capas escondidas.  No es una necesidad!"
      ]
    },
    {
      "cell_type": "code",
      "execution_count": 14,
      "metadata": {
        "id": "e-qkxKDgDIOf"
      },
      "outputs": [],
      "source": [
        "tamanio_capa_escondida = 200"
      ]
    },
    {
      "cell_type": "markdown",
      "metadata": {
        "id": "73P3rBJjDIOf"
      },
      "source": [
        "# Definimos cómo se verá el modelo\n",
        "\n",
        "La primera capa (la de entrada):  cada observación es de 28x28 píxeles, por lo tanto es un tensor de rango 2.\n",
        "\n",
        "Como aún no hemos aprendido sobre CNNs, no sabemos como alimentar este tipo de entrada a nuestra red, por lo tanto hay que \"aplanar\" las imágenes.  Hay un método conveniente **Flatten** que toma nuestro tensor de 28x28 y lo convierte en  un vector (None), o (784,)...porque 28x28 = 784.  Esto nos permite crear una red de alimentación hacia adelante.\n",
        "\n",
        "    \n",
        "**tf.keras.layers.Dense** básicamente implementa:  output = activation(dot(entrada, peso) + sesgo).  Requiere varios argumentos, pero los más importantes para nosotros son el ancho de la capa escondida y la función de activación.\n",
        "\n",
        "La capa final no es diferente, solo nos aseguramos de activarla con **softmax**\n"
      ]
    },
    {
      "cell_type": "code",
      "execution_count": 15,
      "metadata": {
        "colab": {
          "base_uri": "https://localhost:8080/"
        },
        "id": "BX6BqGCKDIOf",
        "outputId": "025bd0f8-71fd-4ad0-d476-c5cbdb49d56c"
      },
      "outputs": [
        {
          "output_type": "stream",
          "name": "stderr",
          "text": [
            "/usr/local/lib/python3.10/dist-packages/keras/src/layers/reshaping/flatten.py:37: UserWarning: Do not pass an `input_shape`/`input_dim` argument to a layer. When using Sequential models, prefer using an `Input(shape)` object as the first layer in the model instead.\n",
            "  super().__init__(**kwargs)\n"
          ]
        }
      ],
      "source": [
        "modelo = tf.keras.Sequential([\n",
        "\n",
        "    tf.keras.layers.Flatten(input_shape=(28, 28)), # capa entrada\n",
        "\n",
        "    tf.keras.layers.Dense(tamanio_capa_escondida, activation='relu'), # 1era capa escondida\n",
        "    tf.keras.layers.Dense(tamanio_capa_escondida, activation='tanh'), # 2nda capa escondida\n",
        "\n",
        "    tf.keras.layers.Dense(tamanio_salida, activation='softmax') # capa salida\n",
        "])"
      ]
    },
    {
      "cell_type": "markdown",
      "metadata": {
        "id": "e0VRvnVVDIOg"
      },
      "source": [
        "### Seleccionar el optimizador y la función de pérdida"
      ]
    },
    {
      "cell_type": "markdown",
      "metadata": {
        "tags": [],
        "id": "Elu-c0ELDIOg"
      },
      "source": [
        "Definimos el optimizador que nos gustaría utilizar, la función de pérdida, y las métricas que nos interesa obtener en cada interacción"
      ]
    },
    {
      "cell_type": "code",
      "execution_count": 16,
      "metadata": {
        "id": "V0Tax3aDDIOg"
      },
      "outputs": [],
      "source": [
        "modelo.compile(optimizer='adam', loss='sparse_categorical_crossentropy', metrics=['accuracy'])"
      ]
    },
    {
      "cell_type": "markdown",
      "metadata": {
        "id": "2qNim2InDIOg"
      },
      "source": [
        "### Entrenamiento\n",
        "\n",
        "Acá es donde entrenamos el modelo que hemos construído\n",
        "\n",
        "Determinamos el número máximo de épocas.\n",
        "\n",
        "Ajustamos el modelo , especificando:\n",
        "\n",
        "* los datos de entrenamiento\n",
        "* el número total de épocas\n",
        "* y los datos de validación que creamos en el formato (entradas, metas)"
      ]
    },
    {
      "cell_type": "code",
      "execution_count": 17,
      "metadata": {
        "colab": {
          "base_uri": "https://localhost:8080/"
        },
        "id": "WxT34vGvDIOg",
        "outputId": "3e88f3a7-7dc3-4b04-ac00-03d1c1cf0611"
      },
      "outputs": [
        {
          "output_type": "stream",
          "name": "stdout",
          "text": [
            "Epoch 1/5\n",
            "500/500 - 11s - 22ms/step - accuracy: 0.9186 - loss: 0.2754 - val_accuracy: 0.9593 - val_loss: 0.1344\n",
            "Epoch 2/5\n",
            "500/500 - 9s - 18ms/step - accuracy: 0.9673 - loss: 0.1076 - val_accuracy: 0.9697 - val_loss: 0.0963\n",
            "Epoch 3/5\n",
            "500/500 - 3s - 6ms/step - accuracy: 0.9784 - loss: 0.0692 - val_accuracy: 0.9729 - val_loss: 0.0898\n",
            "Epoch 4/5\n",
            "500/500 - 5s - 10ms/step - accuracy: 0.9852 - loss: 0.0477 - val_accuracy: 0.9762 - val_loss: 0.0812\n",
            "Epoch 5/5\n",
            "500/500 - 6s - 13ms/step - accuracy: 0.9895 - loss: 0.0340 - val_accuracy: 0.9773 - val_loss: 0.0884\n"
          ]
        },
        {
          "output_type": "execute_result",
          "data": {
            "text/plain": [
              "<keras.src.callbacks.history.History at 0x7821c17f99f0>"
            ]
          },
          "metadata": {},
          "execution_count": 17
        }
      ],
      "source": [
        "NUMERO_EPOCAS = 5\n",
        "\n",
        "modelo.fit(datos_entreno,\n",
        "          epochs = NUMERO_EPOCAS,\n",
        "          validation_data = datos_validacion,\n",
        "          verbose = 2)"
      ]
    },
    {
      "cell_type": "markdown",
      "metadata": {
        "id": "RoBx0WKSDIOh"
      },
      "source": [
        "## Probar el modelo\n",
        "\n",
        "Como se discutió en clase, luego del entrenamiento (con los datos de entrenamiento), y la validación (con los datos de validación), probamos el potencial de predicción final de nuestro modelo con el conjunto de datos de prueba que el algoritmo NUNCA ha visto antes.\n",
        "\n",
        "Es muy importante reconocer que estar \"jugando\" con los hiperparámetros sobre-ajusta el conjunto de datos de validación.\n",
        "\n",
        "La prueba es la instancia absolutamente final. Nunca debe probarse el modelo antes de haber completamente ajustado el modelo.\n",
        "\n",
        "Si se ajusta el modelo después de hacer la prueba, se empezará a sobre-ajustar el conjunto de datos de prueba, que echaría \"por los suelos\" el propósito original del mismo."
      ]
    },
    {
      "cell_type": "code",
      "execution_count": 18,
      "metadata": {
        "colab": {
          "base_uri": "https://localhost:8080/"
        },
        "id": "FAkvpYO_DIOh",
        "outputId": "91623bfd-6fb4-47f3-a1c5-5986db91c348"
      },
      "outputs": [
        {
          "output_type": "stream",
          "name": "stdout",
          "text": [
            "\u001b[1m100/100\u001b[0m \u001b[32m━━━━━━━━━━━━━━━━━━━━\u001b[0m\u001b[37m\u001b[0m \u001b[1m1s\u001b[0m 4ms/step - accuracy: 0.9692 - loss: 0.1350\n"
          ]
        }
      ],
      "source": [
        "perdida_prueba, precision_prueba = modelo.evaluate(datos_prueba)"
      ]
    },
    {
      "cell_type": "code",
      "execution_count": 19,
      "metadata": {
        "colab": {
          "base_uri": "https://localhost:8080/"
        },
        "id": "gUzI-Fn3DIOh",
        "outputId": "2b5dcbb6-aaa5-44b1-e910-3b8273bec5af"
      },
      "outputs": [
        {
          "output_type": "stream",
          "name": "stdout",
          "text": [
            "Pérdida de prueba: 0.12. Precisión de prueba: 97.14%\n"
          ]
        }
      ],
      "source": [
        "# Si se desea, se puede aplicar un formateo \"bonito\"\n",
        "print('Pérdida de prueba: {0:.2f}. Precisión de prueba: {1:.2f}%'.format(perdida_prueba, precision_prueba * 100.))"
      ]
    },
    {
      "cell_type": "markdown",
      "metadata": {
        "id": "WhZPtZT6DIOr"
      },
      "source": [
        "Utilizando el modelo inicial y los hiperparámetros dados en este notebook, la precisión de prueba final debe ser aproximadamente 97%.\n",
        "\n",
        "Cada vez que se ejecuta el código, se obtiene una precisión diferente debido a la \"barajeada\" de las tandas, los pesos se inicializan en forma diferente, etc.\n",
        "\n",
        "Finalmente, intencionalmente se ha llegado a una solución subóptima, para que puedan tener la oportunidad de mejorarla como ejercicio de laboratorio."
      ]
    },
    {
      "cell_type": "markdown",
      "source": [
        "# Diferentes tamaños de tanda"
      ],
      "metadata": {
        "id": "WKfJOSVyGoXy"
      }
    },
    {
      "cell_type": "code",
      "source": [
        "# Lista para almacenar los resultados de cada tamaño de tanda\n",
        "resultados = []\n",
        "\n",
        "# Lista de tamaños de tanda para experimentar\n",
        "tamanios_tanda = [10000, 1]\n",
        "\n",
        "# Definición del modelo de red neuronal\n",
        "modelo = tf.keras.Sequential([\n",
        "    tf.keras.layers.Flatten(input_shape=(28, 28)),\n",
        "    tf.keras.layers.Dense(50, activation='relu'),\n",
        "    tf.keras.layers.Dense(50, activation='relu'),\n",
        "    tf.keras.layers.Dense(tamanio_salida, activation='softmax')\n",
        "])\n",
        "\n",
        "# Configuración del modelo\n",
        "modelo.compile(optimizer='adam', loss='sparse_categorical_crossentropy', metrics=['accuracy'])\n",
        "\n",
        "# Iterar sobre cada tamaño de tanda\n",
        "for tamanio in tamanios_tanda:\n",
        "    # Preparar los conjuntos de datos\n",
        "    datos_entreno = tf.data.Dataset.from_tensor_slices((X_entreno, y_entreno))\n",
        "    datos_validacion = tf.data.Dataset.from_tensor_slices((X_validacion, y_validacion))\n",
        "    datos_prueba = tf.data.Dataset.from_tensor_slices((X_prueba, y_prueba))\n",
        "\n",
        "    # Configurar los datos en tandas\n",
        "    datos_entreno = datos_entreno.shuffle(buffer_size=num_obs_entreno).batch(tamanio)\n",
        "    datos_validacion = datos_validacion.batch(tamanio)\n",
        "    datos_prueba = datos_prueba.batch(tamanio)\n",
        "\n",
        "    # Entrenamiento del modelo\n",
        "    print(f\"Entrenando con tamaño de tanda '{tamanio}'...\", end=\" \")\n",
        "    inicio = time.time()\n",
        "    historia = modelo.fit(datos_entreno, epochs=NUMERO_EPOCAS, validation_data=datos_validacion, verbose=0)\n",
        "    fin = time.time()\n",
        "    duracion_entrenamiento = fin - inicio\n",
        "    print(\"Finalizado!\")\n",
        "\n",
        "    # Evaluación del modelo en el conjunto de prueba\n",
        "    perdida, precision = modelo.evaluate(datos_prueba)\n",
        "\n",
        "    # Obtener precisión final de entrenamiento y validación\n",
        "    precision_entrenamiento_final = historia.history['accuracy'][-1]\n",
        "    precision_validacion_final = historia.history['val_accuracy'][-1]\n",
        "\n",
        "    # Almacenar los resultados\n",
        "    resultados.append({\n",
        "        \"Tamaño de tanda\": tamanio,\n",
        "        \"Precisión de entrenamiento\": \"{:.2f}%\".format(precision_entrenamiento_final * 100),\n",
        "        \"Precisión de prueba\": \"{:.2f}%\".format(precision * 100),\n",
        "        \"Precisión de validación\": \"{:.2f}%\".format(precision_validacion_final * 100),\n",
        "        \"Duración de entrenamiento (s)\": \"{:.2f}\".format(duracion_entrenamiento)\n",
        "    })\n",
        "\n",
        "# Convertir los resultados en un DataFrame para su visualización\n",
        "df_resultados = pd.DataFrame(resultados)\n",
        "print(df_resultados)\n"
      ],
      "metadata": {
        "colab": {
          "base_uri": "https://localhost:8080/",
          "height": 254
        },
        "id": "9LHBbpDQDpmm",
        "outputId": "f3523c85-06dd-4582-fc07-5a77fcdd3e2a"
      },
      "execution_count": 24,
      "outputs": [
        {
          "output_type": "stream",
          "name": "stderr",
          "text": [
            "/usr/local/lib/python3.10/dist-packages/keras/src/layers/reshaping/flatten.py:37: UserWarning: Do not pass an `input_shape`/`input_dim` argument to a layer. When using Sequential models, prefer using an `Input(shape)` object as the first layer in the model instead.\n",
            "  super().__init__(**kwargs)\n"
          ]
        },
        {
          "output_type": "stream",
          "name": "stdout",
          "text": [
            "Entrenando modelo con tamaño de tanda '10000'... Listo!\n",
            "\u001b[1m1/1\u001b[0m \u001b[32m━━━━━━━━━━━━━━━━━━━━\u001b[0m\u001b[37m\u001b[0m \u001b[1m0s\u001b[0m 188ms/step - accuracy: 0.7898 - loss: 38.0445\n",
            "Entrenando modelo con tamaño de tanda '1'... Listo!\n",
            "\u001b[1m10000/10000\u001b[0m \u001b[32m━━━━━━━━━━━━━━━━━━━━\u001b[0m\u001b[37m\u001b[0m \u001b[1m12s\u001b[0m 1ms/step - accuracy: 0.9492 - loss: 55.6879\n"
          ]
        },
        {
          "output_type": "execute_result",
          "data": {
            "text/plain": [
              "   Tamaño de tanda Precisión de entrenamiento Precisión de prueba  \\\n",
              "0            10000                     76.62%              78.98%   \n",
              "1                1                     96.73%              95.79%   \n",
              "\n",
              "  Precisión de validación Tiempo de entrenamiento (s)  \n",
              "0                  81.09%                        7.05  \n",
              "1                  95.98%                      502.28  "
            ],
            "text/html": [
              "\n",
              "  <div id=\"df-82de431a-2bd0-4773-a967-ae6e7b6fa535\" class=\"colab-df-container\">\n",
              "    <div>\n",
              "<style scoped>\n",
              "    .dataframe tbody tr th:only-of-type {\n",
              "        vertical-align: middle;\n",
              "    }\n",
              "\n",
              "    .dataframe tbody tr th {\n",
              "        vertical-align: top;\n",
              "    }\n",
              "\n",
              "    .dataframe thead th {\n",
              "        text-align: right;\n",
              "    }\n",
              "</style>\n",
              "<table border=\"1\" class=\"dataframe\">\n",
              "  <thead>\n",
              "    <tr style=\"text-align: right;\">\n",
              "      <th></th>\n",
              "      <th>Tamaño de tanda</th>\n",
              "      <th>Precisión de entrenamiento</th>\n",
              "      <th>Precisión de prueba</th>\n",
              "      <th>Precisión de validación</th>\n",
              "      <th>Tiempo de entrenamiento (s)</th>\n",
              "    </tr>\n",
              "  </thead>\n",
              "  <tbody>\n",
              "    <tr>\n",
              "      <th>0</th>\n",
              "      <td>10000</td>\n",
              "      <td>76.62%</td>\n",
              "      <td>78.98%</td>\n",
              "      <td>81.09%</td>\n",
              "      <td>7.05</td>\n",
              "    </tr>\n",
              "    <tr>\n",
              "      <th>1</th>\n",
              "      <td>1</td>\n",
              "      <td>96.73%</td>\n",
              "      <td>95.79%</td>\n",
              "      <td>95.98%</td>\n",
              "      <td>502.28</td>\n",
              "    </tr>\n",
              "  </tbody>\n",
              "</table>\n",
              "</div>\n",
              "    <div class=\"colab-df-buttons\">\n",
              "\n",
              "  <div class=\"colab-df-container\">\n",
              "    <button class=\"colab-df-convert\" onclick=\"convertToInteractive('df-82de431a-2bd0-4773-a967-ae6e7b6fa535')\"\n",
              "            title=\"Convert this dataframe to an interactive table.\"\n",
              "            style=\"display:none;\">\n",
              "\n",
              "  <svg xmlns=\"http://www.w3.org/2000/svg\" height=\"24px\" viewBox=\"0 -960 960 960\">\n",
              "    <path d=\"M120-120v-720h720v720H120Zm60-500h600v-160H180v160Zm220 220h160v-160H400v160Zm0 220h160v-160H400v160ZM180-400h160v-160H180v160Zm440 0h160v-160H620v160ZM180-180h160v-160H180v160Zm440 0h160v-160H620v160Z\"/>\n",
              "  </svg>\n",
              "    </button>\n",
              "\n",
              "  <style>\n",
              "    .colab-df-container {\n",
              "      display:flex;\n",
              "      gap: 12px;\n",
              "    }\n",
              "\n",
              "    .colab-df-convert {\n",
              "      background-color: #E8F0FE;\n",
              "      border: none;\n",
              "      border-radius: 50%;\n",
              "      cursor: pointer;\n",
              "      display: none;\n",
              "      fill: #1967D2;\n",
              "      height: 32px;\n",
              "      padding: 0 0 0 0;\n",
              "      width: 32px;\n",
              "    }\n",
              "\n",
              "    .colab-df-convert:hover {\n",
              "      background-color: #E2EBFA;\n",
              "      box-shadow: 0px 1px 2px rgba(60, 64, 67, 0.3), 0px 1px 3px 1px rgba(60, 64, 67, 0.15);\n",
              "      fill: #174EA6;\n",
              "    }\n",
              "\n",
              "    .colab-df-buttons div {\n",
              "      margin-bottom: 4px;\n",
              "    }\n",
              "\n",
              "    [theme=dark] .colab-df-convert {\n",
              "      background-color: #3B4455;\n",
              "      fill: #D2E3FC;\n",
              "    }\n",
              "\n",
              "    [theme=dark] .colab-df-convert:hover {\n",
              "      background-color: #434B5C;\n",
              "      box-shadow: 0px 1px 3px 1px rgba(0, 0, 0, 0.15);\n",
              "      filter: drop-shadow(0px 1px 2px rgba(0, 0, 0, 0.3));\n",
              "      fill: #FFFFFF;\n",
              "    }\n",
              "  </style>\n",
              "\n",
              "    <script>\n",
              "      const buttonEl =\n",
              "        document.querySelector('#df-82de431a-2bd0-4773-a967-ae6e7b6fa535 button.colab-df-convert');\n",
              "      buttonEl.style.display =\n",
              "        google.colab.kernel.accessAllowed ? 'block' : 'none';\n",
              "\n",
              "      async function convertToInteractive(key) {\n",
              "        const element = document.querySelector('#df-82de431a-2bd0-4773-a967-ae6e7b6fa535');\n",
              "        const dataTable =\n",
              "          await google.colab.kernel.invokeFunction('convertToInteractive',\n",
              "                                                    [key], {});\n",
              "        if (!dataTable) return;\n",
              "\n",
              "        const docLinkHtml = 'Like what you see? Visit the ' +\n",
              "          '<a target=\"_blank\" href=https://colab.research.google.com/notebooks/data_table.ipynb>data table notebook</a>'\n",
              "          + ' to learn more about interactive tables.';\n",
              "        element.innerHTML = '';\n",
              "        dataTable['output_type'] = 'display_data';\n",
              "        await google.colab.output.renderOutput(dataTable, element);\n",
              "        const docLink = document.createElement('div');\n",
              "        docLink.innerHTML = docLinkHtml;\n",
              "        element.appendChild(docLink);\n",
              "      }\n",
              "    </script>\n",
              "  </div>\n",
              "\n",
              "\n",
              "<div id=\"df-0d09373e-6370-4bb9-9c71-ee122effdcd4\">\n",
              "  <button class=\"colab-df-quickchart\" onclick=\"quickchart('df-0d09373e-6370-4bb9-9c71-ee122effdcd4')\"\n",
              "            title=\"Suggest charts\"\n",
              "            style=\"display:none;\">\n",
              "\n",
              "<svg xmlns=\"http://www.w3.org/2000/svg\" height=\"24px\"viewBox=\"0 0 24 24\"\n",
              "     width=\"24px\">\n",
              "    <g>\n",
              "        <path d=\"M19 3H5c-1.1 0-2 .9-2 2v14c0 1.1.9 2 2 2h14c1.1 0 2-.9 2-2V5c0-1.1-.9-2-2-2zM9 17H7v-7h2v7zm4 0h-2V7h2v10zm4 0h-2v-4h2v4z\"/>\n",
              "    </g>\n",
              "</svg>\n",
              "  </button>\n",
              "\n",
              "<style>\n",
              "  .colab-df-quickchart {\n",
              "      --bg-color: #E8F0FE;\n",
              "      --fill-color: #1967D2;\n",
              "      --hover-bg-color: #E2EBFA;\n",
              "      --hover-fill-color: #174EA6;\n",
              "      --disabled-fill-color: #AAA;\n",
              "      --disabled-bg-color: #DDD;\n",
              "  }\n",
              "\n",
              "  [theme=dark] .colab-df-quickchart {\n",
              "      --bg-color: #3B4455;\n",
              "      --fill-color: #D2E3FC;\n",
              "      --hover-bg-color: #434B5C;\n",
              "      --hover-fill-color: #FFFFFF;\n",
              "      --disabled-bg-color: #3B4455;\n",
              "      --disabled-fill-color: #666;\n",
              "  }\n",
              "\n",
              "  .colab-df-quickchart {\n",
              "    background-color: var(--bg-color);\n",
              "    border: none;\n",
              "    border-radius: 50%;\n",
              "    cursor: pointer;\n",
              "    display: none;\n",
              "    fill: var(--fill-color);\n",
              "    height: 32px;\n",
              "    padding: 0;\n",
              "    width: 32px;\n",
              "  }\n",
              "\n",
              "  .colab-df-quickchart:hover {\n",
              "    background-color: var(--hover-bg-color);\n",
              "    box-shadow: 0 1px 2px rgba(60, 64, 67, 0.3), 0 1px 3px 1px rgba(60, 64, 67, 0.15);\n",
              "    fill: var(--button-hover-fill-color);\n",
              "  }\n",
              "\n",
              "  .colab-df-quickchart-complete:disabled,\n",
              "  .colab-df-quickchart-complete:disabled:hover {\n",
              "    background-color: var(--disabled-bg-color);\n",
              "    fill: var(--disabled-fill-color);\n",
              "    box-shadow: none;\n",
              "  }\n",
              "\n",
              "  .colab-df-spinner {\n",
              "    border: 2px solid var(--fill-color);\n",
              "    border-color: transparent;\n",
              "    border-bottom-color: var(--fill-color);\n",
              "    animation:\n",
              "      spin 1s steps(1) infinite;\n",
              "  }\n",
              "\n",
              "  @keyframes spin {\n",
              "    0% {\n",
              "      border-color: transparent;\n",
              "      border-bottom-color: var(--fill-color);\n",
              "      border-left-color: var(--fill-color);\n",
              "    }\n",
              "    20% {\n",
              "      border-color: transparent;\n",
              "      border-left-color: var(--fill-color);\n",
              "      border-top-color: var(--fill-color);\n",
              "    }\n",
              "    30% {\n",
              "      border-color: transparent;\n",
              "      border-left-color: var(--fill-color);\n",
              "      border-top-color: var(--fill-color);\n",
              "      border-right-color: var(--fill-color);\n",
              "    }\n",
              "    40% {\n",
              "      border-color: transparent;\n",
              "      border-right-color: var(--fill-color);\n",
              "      border-top-color: var(--fill-color);\n",
              "    }\n",
              "    60% {\n",
              "      border-color: transparent;\n",
              "      border-right-color: var(--fill-color);\n",
              "    }\n",
              "    80% {\n",
              "      border-color: transparent;\n",
              "      border-right-color: var(--fill-color);\n",
              "      border-bottom-color: var(--fill-color);\n",
              "    }\n",
              "    90% {\n",
              "      border-color: transparent;\n",
              "      border-bottom-color: var(--fill-color);\n",
              "    }\n",
              "  }\n",
              "</style>\n",
              "\n",
              "  <script>\n",
              "    async function quickchart(key) {\n",
              "      const quickchartButtonEl =\n",
              "        document.querySelector('#' + key + ' button');\n",
              "      quickchartButtonEl.disabled = true;  // To prevent multiple clicks.\n",
              "      quickchartButtonEl.classList.add('colab-df-spinner');\n",
              "      try {\n",
              "        const charts = await google.colab.kernel.invokeFunction(\n",
              "            'suggestCharts', [key], {});\n",
              "      } catch (error) {\n",
              "        console.error('Error during call to suggestCharts:', error);\n",
              "      }\n",
              "      quickchartButtonEl.classList.remove('colab-df-spinner');\n",
              "      quickchartButtonEl.classList.add('colab-df-quickchart-complete');\n",
              "    }\n",
              "    (() => {\n",
              "      let quickchartButtonEl =\n",
              "        document.querySelector('#df-0d09373e-6370-4bb9-9c71-ee122effdcd4 button');\n",
              "      quickchartButtonEl.style.display =\n",
              "        google.colab.kernel.accessAllowed ? 'block' : 'none';\n",
              "    })();\n",
              "  </script>\n",
              "</div>\n",
              "\n",
              "  <div id=\"id_8d532683-fb77-44b5-823b-33c50958110a\">\n",
              "    <style>\n",
              "      .colab-df-generate {\n",
              "        background-color: #E8F0FE;\n",
              "        border: none;\n",
              "        border-radius: 50%;\n",
              "        cursor: pointer;\n",
              "        display: none;\n",
              "        fill: #1967D2;\n",
              "        height: 32px;\n",
              "        padding: 0 0 0 0;\n",
              "        width: 32px;\n",
              "      }\n",
              "\n",
              "      .colab-df-generate:hover {\n",
              "        background-color: #E2EBFA;\n",
              "        box-shadow: 0px 1px 2px rgba(60, 64, 67, 0.3), 0px 1px 3px 1px rgba(60, 64, 67, 0.15);\n",
              "        fill: #174EA6;\n",
              "      }\n",
              "\n",
              "      [theme=dark] .colab-df-generate {\n",
              "        background-color: #3B4455;\n",
              "        fill: #D2E3FC;\n",
              "      }\n",
              "\n",
              "      [theme=dark] .colab-df-generate:hover {\n",
              "        background-color: #434B5C;\n",
              "        box-shadow: 0px 1px 3px 1px rgba(0, 0, 0, 0.15);\n",
              "        filter: drop-shadow(0px 1px 2px rgba(0, 0, 0, 0.3));\n",
              "        fill: #FFFFFF;\n",
              "      }\n",
              "    </style>\n",
              "    <button class=\"colab-df-generate\" onclick=\"generateWithVariable('df')\"\n",
              "            title=\"Generate code using this dataframe.\"\n",
              "            style=\"display:none;\">\n",
              "\n",
              "  <svg xmlns=\"http://www.w3.org/2000/svg\" height=\"24px\"viewBox=\"0 0 24 24\"\n",
              "       width=\"24px\">\n",
              "    <path d=\"M7,19H8.4L18.45,9,17,7.55,7,17.6ZM5,21V16.75L18.45,3.32a2,2,0,0,1,2.83,0l1.4,1.43a1.91,1.91,0,0,1,.58,1.4,1.91,1.91,0,0,1-.58,1.4L9.25,21ZM18.45,9,17,7.55Zm-12,3A5.31,5.31,0,0,0,4.9,8.1,5.31,5.31,0,0,0,1,6.5,5.31,5.31,0,0,0,4.9,4.9,5.31,5.31,0,0,0,6.5,1,5.31,5.31,0,0,0,8.1,4.9,5.31,5.31,0,0,0,12,6.5,5.46,5.46,0,0,0,6.5,12Z\"/>\n",
              "  </svg>\n",
              "    </button>\n",
              "    <script>\n",
              "      (() => {\n",
              "      const buttonEl =\n",
              "        document.querySelector('#id_8d532683-fb77-44b5-823b-33c50958110a button.colab-df-generate');\n",
              "      buttonEl.style.display =\n",
              "        google.colab.kernel.accessAllowed ? 'block' : 'none';\n",
              "\n",
              "      buttonEl.onclick = () => {\n",
              "        google.colab.notebook.generateWithVariable('df');\n",
              "      }\n",
              "      })();\n",
              "    </script>\n",
              "  </div>\n",
              "\n",
              "    </div>\n",
              "  </div>\n"
            ],
            "application/vnd.google.colaboratory.intrinsic+json": {
              "type": "dataframe",
              "variable_name": "df",
              "summary": "{\n  \"name\": \"df\",\n  \"rows\": 2,\n  \"fields\": [\n    {\n      \"column\": \"Tama\\u00f1o de tanda\",\n      \"properties\": {\n        \"dtype\": \"number\",\n        \"std\": 7070,\n        \"min\": 1,\n        \"max\": 10000,\n        \"num_unique_values\": 2,\n        \"samples\": [\n          1,\n          10000\n        ],\n        \"semantic_type\": \"\",\n        \"description\": \"\"\n      }\n    },\n    {\n      \"column\": \"Precisi\\u00f3n de entrenamiento\",\n      \"properties\": {\n        \"dtype\": \"string\",\n        \"num_unique_values\": 2,\n        \"samples\": [\n          \"96.73%\",\n          \"76.62%\"\n        ],\n        \"semantic_type\": \"\",\n        \"description\": \"\"\n      }\n    },\n    {\n      \"column\": \"Precisi\\u00f3n de prueba\",\n      \"properties\": {\n        \"dtype\": \"string\",\n        \"num_unique_values\": 2,\n        \"samples\": [\n          \"95.79%\",\n          \"78.98%\"\n        ],\n        \"semantic_type\": \"\",\n        \"description\": \"\"\n      }\n    },\n    {\n      \"column\": \"Precisi\\u00f3n de validaci\\u00f3n\",\n      \"properties\": {\n        \"dtype\": \"string\",\n        \"num_unique_values\": 2,\n        \"samples\": [\n          \"95.98%\",\n          \"81.09%\"\n        ],\n        \"semantic_type\": \"\",\n        \"description\": \"\"\n      }\n    },\n    {\n      \"column\": \"Tiempo de entrenamiento (s)\",\n      \"properties\": {\n        \"dtype\": \"string\",\n        \"num_unique_values\": 2,\n        \"samples\": [\n          \"502.28\",\n          \"7.05\"\n        ],\n        \"semantic_type\": \"\",\n        \"description\": \"\"\n      }\n    }\n  ]\n}"
            }
          },
          "metadata": {},
          "execution_count": 24
        }
      ]
    },
    {
      "cell_type": "markdown",
      "source": [
        "# Diferentes tasas de apredizaje"
      ],
      "metadata": {
        "id": "SuMrL43XGw7c"
      }
    },
    {
      "cell_type": "code",
      "source": [
        "# Lista para almacenar los resultados de cada tasa de aprendizaje\n",
        "resultados = []\n",
        "\n",
        "# Tasas de aprendizaje para evaluar\n",
        "tasas_aprendizaje = [0.0001, 0.02]\n",
        "\n",
        "# Definición del modelo de red neuronal\n",
        "modelo = tf.keras.Sequential([\n",
        "    tf.keras.layers.Flatten(input_shape=(28, 28)),\n",
        "    tf.keras.layers.Dense(50, activation='relu'),\n",
        "    tf.keras.layers.Dense(50, activation='relu'),\n",
        "    tf.keras.layers.Dense(tamanio_salida, activation='softmax')\n",
        "])\n",
        "\n",
        "# Preparar los conjuntos de datos\n",
        "datos_entreno = tf.data.Dataset.from_tensor_slices((X_entreno, y_entreno))\n",
        "datos_validacion = tf.data.Dataset.from_tensor_slices((X_validacion, y_validacion))\n",
        "datos_prueba = tf.data.Dataset.from_tensor_slices((X_prueba, y_prueba))\n",
        "\n",
        "# Configurar los datos en tandas con tamaño fijo\n",
        "TAMANIO_TANDA = 100\n",
        "datos_entreno = datos_entreno.shuffle(buffer_size=num_obs_entreno).batch(TAMANIO_TANDA)\n",
        "datos_validacion = datos_validacion.batch(TAMANIO_TANDA)\n",
        "datos_prueba = datos_prueba.batch(TAMANIO_TANDA)\n",
        "\n",
        "# Evaluar el modelo con diferentes tasas de aprendizaje\n",
        "for tasa in tasas_aprendizaje:\n",
        "    # Inicializar el optimizador con la tasa de aprendizaje actual\n",
        "    optimizador = Adam(learning_rate=tasa)\n",
        "\n",
        "    # Compilar el modelo con el optimizador configurado\n",
        "    modelo.compile(optimizer=optimizador, loss='sparse_categorical_crossentropy', metrics=['accuracy'])\n",
        "\n",
        "    # Entrenamiento del modelo\n",
        "    print(f\"Entrenando el modelo con tasa de aprendizaje '{tasa}'...\", end=\" \")\n",
        "    inicio = time.time()\n",
        "    historial = modelo.fit(datos_entreno, epochs=NUMERO_EPOCAS, validation_data=datos_validacion, verbose=0)\n",
        "    fin = time.time()\n",
        "    duracion_entrenamiento = fin - inicio\n",
        "    print(\"Finalizado!\")\n",
        "\n",
        "    # Evaluar el modelo en el conjunto de prueba\n",
        "    perdida, precision = modelo.evaluate(datos_prueba)\n",
        "\n",
        "    # Obtener la precisión final en entrenamiento y validación\n",
        "    precision_final_entrenamiento = historial.history['accuracy'][-1]\n",
        "    precision_final_validacion = historial.history['val_accuracy'][-1]\n",
        "\n",
        "    # Almacenar los resultados\n",
        "    resultados.append({\n",
        "        \"Tasa de aprendizaje\": tasa,\n",
        "        \"Precisión de entrenamiento\": \"{:.2f}%\".format(precision_final_entrenamiento * 100),\n",
        "        \"Precisión de prueba\": \"{:.2f}%\".format(precision * 100),\n",
        "        \"Precisión de validación\": \"{:.2f}%\".format(precision_final_validacion * 100),\n",
        "        \"Duración de entrenamiento (s)\": \"{:.2f}\".format(duracion_entrenamiento)\n",
        "    })\n",
        "\n",
        "# Crear un DataFrame para visualizar los resultados\n",
        "df_resultados = pd.DataFrame(resultados)\n",
        "print(df_resultados)"
      ],
      "metadata": {
        "colab": {
          "base_uri": "https://localhost:8080/"
        },
        "id": "Eyp7Dn_EGBKw",
        "outputId": "99a80c80-2d99-447e-aa2f-b5bf7e929764"
      },
      "execution_count": 28,
      "outputs": [
        {
          "output_type": "stream",
          "name": "stderr",
          "text": [
            "/usr/local/lib/python3.10/dist-packages/keras/src/layers/reshaping/flatten.py:37: UserWarning: Do not pass an `input_shape`/`input_dim` argument to a layer. When using Sequential models, prefer using an `Input(shape)` object as the first layer in the model instead.\n",
            "  super().__init__(**kwargs)\n"
          ]
        },
        {
          "output_type": "stream",
          "name": "stdout",
          "text": [
            "Entrenando el modelo con tasa de aprendizaje '0.0001'... Finalizado!\n",
            "\u001b[1m100/100\u001b[0m \u001b[32m━━━━━━━━━━━━━━━━━━━━\u001b[0m\u001b[37m\u001b[0m \u001b[1m0s\u001b[0m 2ms/step - accuracy: 0.9619 - loss: 21.9655\n",
            "Entrenando el modelo con tasa de aprendizaje '0.02'... Finalizado!\n",
            "\u001b[1m100/100\u001b[0m \u001b[32m━━━━━━━━━━━━━━━━━━━━\u001b[0m\u001b[37m\u001b[0m \u001b[1m1s\u001b[0m 3ms/step - accuracy: 0.9514 - loss: 90.5542\n",
            "   Tasa de aprendizaje Precisión de entrenamiento Precisión de prueba  \\\n",
            "0               0.0001                     98.20%              96.63%   \n",
            "1               0.0200                     97.80%              95.69%   \n",
            "\n",
            "  Precisión de validación Duración de entrenamiento (s)  \n",
            "0                  96.77%                        106.78  \n",
            "1                  95.99%                         94.02  \n"
          ]
        }
      ]
    },
    {
      "cell_type": "markdown",
      "source": [
        "#precisión de validación de 98.5% o más"
      ],
      "metadata": {
        "id": "6AzGbuIpIhXN"
      }
    },
    {
      "cell_type": "code",
      "source": [
        "# Configuración de parámetros\n",
        "TAMANIO_TANDA = 200\n",
        "TAMANIO_CAPA_ESCONDIDA = 1024\n",
        "TASA_APRENDIZAJE = 0.0006561\n",
        "NUMERO_EPOCAS = 50\n",
        "\n",
        "# Preparar los conjuntos de datos\n",
        "datos_entreno = tf.data.Dataset.from_tensor_slices((X_entreno, y_entreno))\n",
        "datos_validacion = tf.data.Dataset.from_tensor_slices((X_validacion, y_validacion))\n",
        "datos_prueba = tf.data.Dataset.from_tensor_slices((X_prueba, y_prueba))\n",
        "\n",
        "# Configurar los datos en tandas\n",
        "datos_entreno = datos_entreno.shuffle(buffer_size=num_obs_entreno).batch(TAMANIO_TANDA)\n",
        "datos_validacion = datos_validacion.batch(TAMANIO_TANDA)\n",
        "datos_prueba = datos_prueba.batch(TAMANIO_TANDA)\n",
        "\n",
        "# Definir el modelo con la nueva estructura\n",
        "modelo = tf.keras.Sequential([\n",
        "    tf.keras.layers.Input(shape=(28, 28)),  # Capa de entrada\n",
        "    tf.keras.layers.Flatten(),\n",
        "    tf.keras.layers.Dense(TAMANIO_CAPA_ESCONDIDA, activation='sigmoid'),  # Primera capa oculta\n",
        "    tf.keras.layers.Dense(TAMANIO_CAPA_ESCONDIDA, activation='sigmoid'),  # Segunda capa oculta\n",
        "    tf.keras.layers.Dense(tamanio_salida, activation='softmax')  # Capa de salida\n",
        "])\n",
        "\n",
        "# Crear el optimizador con la tasa de aprendizaje especificada\n",
        "optimizador = Adam(learning_rate=TASA_APRENDIZAJE)\n",
        "\n",
        "# Compilar el modelo\n",
        "modelo.compile(optimizer=optimizador, loss='sparse_categorical_crossentropy', metrics=['accuracy'])\n",
        "\n",
        "# Entrenar el modelo\n",
        "print(f\"Comenzando el entrenamiento con tamaño de tanda={TAMANIO_TANDA}, tamaño de capa oculta={TAMANIO_CAPA_ESCONDIDA}, tasa de aprendizaje={TASA_APRENDIZAJE}, épocas={NUMERO_EPOCAS}...\")\n",
        "inicio = time.time()\n",
        "historial = modelo.fit(datos_entreno, epochs=NUMERO_EPOCAS, validation_data=datos_validacion, verbose=1)\n",
        "fin = time.time()\n",
        "duracion_entrenamiento = fin - inicio\n",
        "print(\"Entrenamiento completado!\")\n",
        "\n",
        "# Evaluar el modelo en el conjunto de prueba\n",
        "print(\"Evaluando el modelo...\")\n",
        "perdida, precision = modelo.evaluate(datos_prueba)\n",
        "\n",
        "# Obtener precisión final en entrenamiento y validación\n",
        "precision_final_entrenamiento = historial.history['accuracy'][-1]\n",
        "precision_final_validacion = historial.history['val_accuracy'][-1]\n",
        "\n",
        "# Almacenar los resultados\n",
        "resultados = [{\n",
        "    \"Tasa de aprendizaje\": TASA_APRENDIZAJE,\n",
        "    \"Precisión de entrenamiento\": \"{:.2f}%\".format(precision_final_entrenamiento * 100),\n",
        "    \"Precisión de prueba\": \"{:.2f}%\".format(precision * 100),\n",
        "    \"Precisión de validación\": \"{:.2f}%\".format(precision_final_validacion * 100),\n",
        "    \"Duración del entrenamiento (s)\": \"{:.2f}\".format(duracion_entrenamiento)\n",
        "}]\n",
        "\n",
        "# Mostrar resultados en un DataFrame\n",
        "df_resultados = pd.DataFrame(resultados)\n",
        "print(df_resultados)"
      ],
      "metadata": {
        "colab": {
          "base_uri": "https://localhost:8080/",
          "height": 1000
        },
        "id": "hUO6gyDBHPsQ",
        "outputId": "d11cdb84-f90c-4182-f17e-e6c7dc2e094d"
      },
      "execution_count": 27,
      "outputs": [
        {
          "output_type": "stream",
          "name": "stdout",
          "text": [
            "Entrenando modelo con TAMANIO_TANDA=200, TAMANIO_CAPA_ESCONDIDA=1024, TASA_APRENDIZAJE=0.0006561, NUMERO_EPOCAS=50...\n",
            "Epoch 1/50\n",
            "\u001b[1m250/250\u001b[0m \u001b[32m━━━━━━━━━━━━━━━━━━━━\u001b[0m\u001b[37m\u001b[0m \u001b[1m19s\u001b[0m 73ms/step - accuracy: 0.6657 - loss: 1.1409 - val_accuracy: 0.9173 - val_loss: 0.2875\n",
            "Epoch 2/50\n",
            "\u001b[1m250/250\u001b[0m \u001b[32m━━━━━━━━━━━━━━━━━━━━\u001b[0m\u001b[37m\u001b[0m \u001b[1m19s\u001b[0m 75ms/step - accuracy: 0.9138 - loss: 0.2942 - val_accuracy: 0.9303 - val_loss: 0.2380\n",
            "Epoch 3/50\n",
            "\u001b[1m250/250\u001b[0m \u001b[32m━━━━━━━━━━━━━━━━━━━━\u001b[0m\u001b[37m\u001b[0m \u001b[1m18s\u001b[0m 70ms/step - accuracy: 0.9272 - loss: 0.2495 - val_accuracy: 0.9409 - val_loss: 0.2061\n",
            "Epoch 4/50\n",
            "\u001b[1m250/250\u001b[0m \u001b[32m━━━━━━━━━━━━━━━━━━━━\u001b[0m\u001b[37m\u001b[0m \u001b[1m23s\u001b[0m 81ms/step - accuracy: 0.9379 - loss: 0.2087 - val_accuracy: 0.9501 - val_loss: 0.1776\n",
            "Epoch 5/50\n",
            "\u001b[1m250/250\u001b[0m \u001b[32m━━━━━━━━━━━━━━━━━━━━\u001b[0m\u001b[37m\u001b[0m \u001b[1m19s\u001b[0m 76ms/step - accuracy: 0.9468 - loss: 0.1760 - val_accuracy: 0.9530 - val_loss: 0.1694\n",
            "Epoch 6/50\n",
            "\u001b[1m250/250\u001b[0m \u001b[32m━━━━━━━━━━━━━━━━━━━━\u001b[0m\u001b[37m\u001b[0m \u001b[1m17s\u001b[0m 69ms/step - accuracy: 0.9554 - loss: 0.1507 - val_accuracy: 0.9573 - val_loss: 0.1464\n",
            "Epoch 7/50\n",
            "\u001b[1m250/250\u001b[0m \u001b[32m━━━━━━━━━━━━━━━━━━━━\u001b[0m\u001b[37m\u001b[0m \u001b[1m21s\u001b[0m 72ms/step - accuracy: 0.9606 - loss: 0.1310 - val_accuracy: 0.9637 - val_loss: 0.1260\n",
            "Epoch 8/50\n",
            "\u001b[1m250/250\u001b[0m \u001b[32m━━━━━━━━━━━━━━━━━━━━\u001b[0m\u001b[37m\u001b[0m \u001b[1m18s\u001b[0m 70ms/step - accuracy: 0.9671 - loss: 0.1112 - val_accuracy: 0.9656 - val_loss: 0.1186\n",
            "Epoch 9/50\n",
            "\u001b[1m250/250\u001b[0m \u001b[32m━━━━━━━━━━━━━━━━━━━━\u001b[0m\u001b[37m\u001b[0m \u001b[1m18s\u001b[0m 72ms/step - accuracy: 0.9717 - loss: 0.0959 - val_accuracy: 0.9695 - val_loss: 0.1053\n",
            "Epoch 10/50\n",
            "\u001b[1m250/250\u001b[0m \u001b[32m━━━━━━━━━━━━━━━━━━━━\u001b[0m\u001b[37m\u001b[0m \u001b[1m21s\u001b[0m 75ms/step - accuracy: 0.9750 - loss: 0.0822 - val_accuracy: 0.9688 - val_loss: 0.0994\n",
            "Epoch 11/50\n",
            "\u001b[1m250/250\u001b[0m \u001b[32m━━━━━━━━━━━━━━━━━━━━\u001b[0m\u001b[37m\u001b[0m \u001b[1m20s\u001b[0m 72ms/step - accuracy: 0.9779 - loss: 0.0708 - val_accuracy: 0.9683 - val_loss: 0.1028\n",
            "Epoch 12/50\n",
            "\u001b[1m250/250\u001b[0m \u001b[32m━━━━━━━━━━━━━━━━━━━━\u001b[0m\u001b[37m\u001b[0m \u001b[1m19s\u001b[0m 76ms/step - accuracy: 0.9814 - loss: 0.0607 - val_accuracy: 0.9728 - val_loss: 0.0940\n",
            "Epoch 13/50\n",
            "\u001b[1m250/250\u001b[0m \u001b[32m━━━━━━━━━━━━━━━━━━━━\u001b[0m\u001b[37m\u001b[0m \u001b[1m18s\u001b[0m 70ms/step - accuracy: 0.9841 - loss: 0.0538 - val_accuracy: 0.9740 - val_loss: 0.0868\n",
            "Epoch 14/50\n",
            "\u001b[1m250/250\u001b[0m \u001b[32m━━━━━━━━━━━━━━━━━━━━\u001b[0m\u001b[37m\u001b[0m \u001b[1m22s\u001b[0m 78ms/step - accuracy: 0.9859 - loss: 0.0453 - val_accuracy: 0.9726 - val_loss: 0.0861\n",
            "Epoch 15/50\n",
            "\u001b[1m250/250\u001b[0m \u001b[32m━━━━━━━━━━━━━━━━━━━━\u001b[0m\u001b[37m\u001b[0m \u001b[1m18s\u001b[0m 71ms/step - accuracy: 0.9886 - loss: 0.0397 - val_accuracy: 0.9756 - val_loss: 0.0840\n",
            "Epoch 16/50\n",
            "\u001b[1m250/250\u001b[0m \u001b[32m━━━━━━━━━━━━━━━━━━━━\u001b[0m\u001b[37m\u001b[0m \u001b[1m18s\u001b[0m 72ms/step - accuracy: 0.9889 - loss: 0.0377 - val_accuracy: 0.9766 - val_loss: 0.0791\n",
            "Epoch 17/50\n",
            "\u001b[1m250/250\u001b[0m \u001b[32m━━━━━━━━━━━━━━━━━━━━\u001b[0m\u001b[37m\u001b[0m \u001b[1m19s\u001b[0m 74ms/step - accuracy: 0.9908 - loss: 0.0308 - val_accuracy: 0.9764 - val_loss: 0.0800\n",
            "Epoch 18/50\n",
            "\u001b[1m250/250\u001b[0m \u001b[32m━━━━━━━━━━━━━━━━━━━━\u001b[0m\u001b[37m\u001b[0m \u001b[1m19s\u001b[0m 75ms/step - accuracy: 0.9933 - loss: 0.0249 - val_accuracy: 0.9774 - val_loss: 0.0822\n",
            "Epoch 19/50\n",
            "\u001b[1m250/250\u001b[0m \u001b[32m━━━━━━━━━━━━━━━━━━━━\u001b[0m\u001b[37m\u001b[0m \u001b[1m18s\u001b[0m 71ms/step - accuracy: 0.9937 - loss: 0.0220 - val_accuracy: 0.9773 - val_loss: 0.0830\n",
            "Epoch 20/50\n",
            "\u001b[1m250/250\u001b[0m \u001b[32m━━━━━━━━━━━━━━━━━━━━\u001b[0m\u001b[37m\u001b[0m \u001b[1m18s\u001b[0m 71ms/step - accuracy: 0.9945 - loss: 0.0197 - val_accuracy: 0.9771 - val_loss: 0.0902\n",
            "Epoch 21/50\n",
            "\u001b[1m250/250\u001b[0m \u001b[32m━━━━━━━━━━━━━━━━━━━━\u001b[0m\u001b[37m\u001b[0m \u001b[1m19s\u001b[0m 77ms/step - accuracy: 0.9956 - loss: 0.0161 - val_accuracy: 0.9777 - val_loss: 0.0802\n",
            "Epoch 22/50\n",
            "\u001b[1m250/250\u001b[0m \u001b[32m━━━━━━━━━━━━━━━━━━━━\u001b[0m\u001b[37m\u001b[0m \u001b[1m19s\u001b[0m 71ms/step - accuracy: 0.9961 - loss: 0.0138 - val_accuracy: 0.9789 - val_loss: 0.0807\n",
            "Epoch 23/50\n",
            "\u001b[1m250/250\u001b[0m \u001b[32m━━━━━━━━━━━━━━━━━━━━\u001b[0m\u001b[37m\u001b[0m \u001b[1m18s\u001b[0m 71ms/step - accuracy: 0.9966 - loss: 0.0124 - val_accuracy: 0.9803 - val_loss: 0.0785\n",
            "Epoch 24/50\n",
            "\u001b[1m250/250\u001b[0m \u001b[32m━━━━━━━━━━━━━━━━━━━━\u001b[0m\u001b[37m\u001b[0m \u001b[1m19s\u001b[0m 77ms/step - accuracy: 0.9974 - loss: 0.0108 - val_accuracy: 0.9806 - val_loss: 0.0783\n",
            "Epoch 25/50\n",
            "\u001b[1m250/250\u001b[0m \u001b[32m━━━━━━━━━━━━━━━━━━━━\u001b[0m\u001b[37m\u001b[0m \u001b[1m20s\u001b[0m 79ms/step - accuracy: 0.9979 - loss: 0.0080 - val_accuracy: 0.9785 - val_loss: 0.0859\n",
            "Epoch 26/50\n",
            "\u001b[1m250/250\u001b[0m \u001b[32m━━━━━━━━━━━━━━━━━━━━\u001b[0m\u001b[37m\u001b[0m \u001b[1m18s\u001b[0m 71ms/step - accuracy: 0.9983 - loss: 0.0071 - val_accuracy: 0.9783 - val_loss: 0.0884\n",
            "Epoch 27/50\n",
            "\u001b[1m250/250\u001b[0m \u001b[32m━━━━━━━━━━━━━━━━━━━━\u001b[0m\u001b[37m\u001b[0m \u001b[1m19s\u001b[0m 75ms/step - accuracy: 0.9988 - loss: 0.0057 - val_accuracy: 0.9799 - val_loss: 0.0873\n",
            "Epoch 28/50\n",
            "\u001b[1m250/250\u001b[0m \u001b[32m━━━━━━━━━━━━━━━━━━━━\u001b[0m\u001b[37m\u001b[0m \u001b[1m20s\u001b[0m 72ms/step - accuracy: 0.9994 - loss: 0.0043 - val_accuracy: 0.9799 - val_loss: 0.0885\n",
            "Epoch 29/50\n",
            "\u001b[1m250/250\u001b[0m \u001b[32m━━━━━━━━━━━━━━━━━━━━\u001b[0m\u001b[37m\u001b[0m \u001b[1m21s\u001b[0m 73ms/step - accuracy: 0.9991 - loss: 0.0042 - val_accuracy: 0.9797 - val_loss: 0.0901\n",
            "Epoch 30/50\n",
            "\u001b[1m250/250\u001b[0m \u001b[32m━━━━━━━━━━━━━━━━━━━━\u001b[0m\u001b[37m\u001b[0m \u001b[1m20s\u001b[0m 70ms/step - accuracy: 0.9984 - loss: 0.0059 - val_accuracy: 0.9802 - val_loss: 0.0891\n",
            "Epoch 31/50\n",
            "\u001b[1m250/250\u001b[0m \u001b[32m━━━━━━━━━━━━━━━━━━━━\u001b[0m\u001b[37m\u001b[0m \u001b[1m17s\u001b[0m 69ms/step - accuracy: 0.9997 - loss: 0.0030 - val_accuracy: 0.9794 - val_loss: 0.0979\n",
            "Epoch 32/50\n",
            "\u001b[1m250/250\u001b[0m \u001b[32m━━━━━━━━━━━━━━━━━━━━\u001b[0m\u001b[37m\u001b[0m \u001b[1m20s\u001b[0m 79ms/step - accuracy: 0.9995 - loss: 0.0025 - val_accuracy: 0.9806 - val_loss: 0.0877\n",
            "Epoch 33/50\n",
            "\u001b[1m250/250\u001b[0m \u001b[32m━━━━━━━━━━━━━━━━━━━━\u001b[0m\u001b[37m\u001b[0m \u001b[1m18s\u001b[0m 70ms/step - accuracy: 0.9996 - loss: 0.0025 - val_accuracy: 0.9769 - val_loss: 0.1125\n",
            "Epoch 34/50\n",
            "\u001b[1m250/250\u001b[0m \u001b[32m━━━━━━━━━━━━━━━━━━━━\u001b[0m\u001b[37m\u001b[0m \u001b[1m21s\u001b[0m 73ms/step - accuracy: 0.9986 - loss: 0.0051 - val_accuracy: 0.9764 - val_loss: 0.1201\n",
            "Epoch 35/50\n",
            "\u001b[1m250/250\u001b[0m \u001b[32m━━━━━━━━━━━━━━━━━━━━\u001b[0m\u001b[37m\u001b[0m \u001b[1m18s\u001b[0m 72ms/step - accuracy: 0.9950 - loss: 0.0128 - val_accuracy: 0.9801 - val_loss: 0.1022\n",
            "Epoch 36/50\n",
            "\u001b[1m250/250\u001b[0m \u001b[32m━━━━━━━━━━━━━━━━━━━━\u001b[0m\u001b[37m\u001b[0m \u001b[1m20s\u001b[0m 70ms/step - accuracy: 0.9989 - loss: 0.0040 - val_accuracy: 0.9796 - val_loss: 0.1025\n",
            "Epoch 37/50\n",
            "\u001b[1m250/250\u001b[0m \u001b[32m━━━━━━━━━━━━━━━━━━━━\u001b[0m\u001b[37m\u001b[0m \u001b[1m19s\u001b[0m 74ms/step - accuracy: 0.9995 - loss: 0.0020 - val_accuracy: 0.9810 - val_loss: 0.0920\n",
            "Epoch 38/50\n",
            "\u001b[1m250/250\u001b[0m \u001b[32m━━━━━━━━━━━━━━━━━━━━\u001b[0m\u001b[37m\u001b[0m \u001b[1m20s\u001b[0m 71ms/step - accuracy: 0.9999 - loss: 8.0199e-04 - val_accuracy: 0.9810 - val_loss: 0.0934\n",
            "Epoch 39/50\n",
            "\u001b[1m250/250\u001b[0m \u001b[32m━━━━━━━━━━━━━━━━━━━━\u001b[0m\u001b[37m\u001b[0m \u001b[1m18s\u001b[0m 70ms/step - accuracy: 1.0000 - loss: 3.3968e-04 - val_accuracy: 0.9815 - val_loss: 0.0937\n",
            "Epoch 40/50\n",
            "\u001b[1m250/250\u001b[0m \u001b[32m━━━━━━━━━━━━━━━━━━━━\u001b[0m\u001b[37m\u001b[0m \u001b[1m21s\u001b[0m 71ms/step - accuracy: 1.0000 - loss: 2.8199e-04 - val_accuracy: 0.9812 - val_loss: 0.0947\n",
            "Epoch 41/50\n",
            "\u001b[1m250/250\u001b[0m \u001b[32m━━━━━━━━━━━━━━━━━━━━\u001b[0m\u001b[37m\u001b[0m \u001b[1m17s\u001b[0m 70ms/step - accuracy: 0.9995 - loss: 0.0016 - val_accuracy: 0.9810 - val_loss: 0.0999\n",
            "Epoch 42/50\n",
            "\u001b[1m250/250\u001b[0m \u001b[32m━━━━━━━━━━━━━━━━━━━━\u001b[0m\u001b[37m\u001b[0m \u001b[1m22s\u001b[0m 75ms/step - accuracy: 0.9983 - loss: 0.0055 - val_accuracy: 0.9769 - val_loss: 0.1196\n",
            "Epoch 43/50\n",
            "\u001b[1m250/250\u001b[0m \u001b[32m━━━━━━━━━━━━━━━━━━━━\u001b[0m\u001b[37m\u001b[0m \u001b[1m19s\u001b[0m 70ms/step - accuracy: 0.9980 - loss: 0.0059 - val_accuracy: 0.9812 - val_loss: 0.1038\n",
            "Epoch 44/50\n",
            "\u001b[1m250/250\u001b[0m \u001b[32m━━━━━━━━━━━━━━━━━━━━\u001b[0m\u001b[37m\u001b[0m \u001b[1m23s\u001b[0m 79ms/step - accuracy: 0.9998 - loss: 0.0012 - val_accuracy: 0.9823 - val_loss: 0.0945\n",
            "Epoch 45/50\n",
            "\u001b[1m250/250\u001b[0m \u001b[32m━━━━━━━━━━━━━━━━━━━━\u001b[0m\u001b[37m\u001b[0m \u001b[1m18s\u001b[0m 70ms/step - accuracy: 0.9999 - loss: 3.5908e-04 - val_accuracy: 0.9823 - val_loss: 0.0962\n",
            "Epoch 46/50\n",
            "\u001b[1m250/250\u001b[0m \u001b[32m━━━━━━━━━━━━━━━━━━━━\u001b[0m\u001b[37m\u001b[0m \u001b[1m21s\u001b[0m 71ms/step - accuracy: 1.0000 - loss: 2.0363e-04 - val_accuracy: 0.9825 - val_loss: 0.0955\n",
            "Epoch 47/50\n",
            "\u001b[1m250/250\u001b[0m \u001b[32m━━━━━━━━━━━━━━━━━━━━\u001b[0m\u001b[37m\u001b[0m \u001b[1m18s\u001b[0m 74ms/step - accuracy: 1.0000 - loss: 1.5242e-04 - val_accuracy: 0.9828 - val_loss: 0.0960\n",
            "Epoch 48/50\n",
            "\u001b[1m250/250\u001b[0m \u001b[32m━━━━━━━━━━━━━━━━━━━━\u001b[0m\u001b[37m\u001b[0m \u001b[1m20s\u001b[0m 70ms/step - accuracy: 1.0000 - loss: 1.3255e-04 - val_accuracy: 0.9829 - val_loss: 0.0969\n",
            "Epoch 49/50\n",
            "\u001b[1m250/250\u001b[0m \u001b[32m━━━━━━━━━━━━━━━━━━━━\u001b[0m\u001b[37m\u001b[0m \u001b[1m22s\u001b[0m 76ms/step - accuracy: 1.0000 - loss: 1.1945e-04 - val_accuracy: 0.9829 - val_loss: 0.0970\n",
            "Epoch 50/50\n",
            "\u001b[1m250/250\u001b[0m \u001b[32m━━━━━━━━━━━━━━━━━━━━\u001b[0m\u001b[37m\u001b[0m \u001b[1m17s\u001b[0m 70ms/step - accuracy: 1.0000 - loss: 9.9167e-05 - val_accuracy: 0.9830 - val_loss: 0.0972\n",
            "Listo!\n",
            "Evaluando modelo...\n",
            "\u001b[1m50/50\u001b[0m \u001b[32m━━━━━━━━━━━━━━━━━━━━\u001b[0m\u001b[37m\u001b[0m \u001b[1m1s\u001b[0m 20ms/step - accuracy: 0.9744 - loss: 0.1780\n"
          ]
        },
        {
          "output_type": "execute_result",
          "data": {
            "text/plain": [
              "   Tasa de aprendizaje Precisión de entrenamiento Precisión de prueba  \\\n",
              "0               0.0001                     91.91%              92.36%   \n",
              "1               0.0200                     95.61%              94.09%   \n",
              "2               0.0200                    100.00%              97.86%   \n",
              "\n",
              "  Precisión de validación Tiempo de entrenamiento (s)  \n",
              "0                  93.12%                       13.06  \n",
              "1                  95.24%                       12.69  \n",
              "2                  98.30%                      960.17  "
            ],
            "text/html": [
              "\n",
              "  <div id=\"df-957af2b6-4720-4709-8cca-9e6d28f02e01\" class=\"colab-df-container\">\n",
              "    <div>\n",
              "<style scoped>\n",
              "    .dataframe tbody tr th:only-of-type {\n",
              "        vertical-align: middle;\n",
              "    }\n",
              "\n",
              "    .dataframe tbody tr th {\n",
              "        vertical-align: top;\n",
              "    }\n",
              "\n",
              "    .dataframe thead th {\n",
              "        text-align: right;\n",
              "    }\n",
              "</style>\n",
              "<table border=\"1\" class=\"dataframe\">\n",
              "  <thead>\n",
              "    <tr style=\"text-align: right;\">\n",
              "      <th></th>\n",
              "      <th>Tasa de aprendizaje</th>\n",
              "      <th>Precisión de entrenamiento</th>\n",
              "      <th>Precisión de prueba</th>\n",
              "      <th>Precisión de validación</th>\n",
              "      <th>Tiempo de entrenamiento (s)</th>\n",
              "    </tr>\n",
              "  </thead>\n",
              "  <tbody>\n",
              "    <tr>\n",
              "      <th>0</th>\n",
              "      <td>0.0001</td>\n",
              "      <td>91.91%</td>\n",
              "      <td>92.36%</td>\n",
              "      <td>93.12%</td>\n",
              "      <td>13.06</td>\n",
              "    </tr>\n",
              "    <tr>\n",
              "      <th>1</th>\n",
              "      <td>0.0200</td>\n",
              "      <td>95.61%</td>\n",
              "      <td>94.09%</td>\n",
              "      <td>95.24%</td>\n",
              "      <td>12.69</td>\n",
              "    </tr>\n",
              "    <tr>\n",
              "      <th>2</th>\n",
              "      <td>0.0200</td>\n",
              "      <td>100.00%</td>\n",
              "      <td>97.86%</td>\n",
              "      <td>98.30%</td>\n",
              "      <td>960.17</td>\n",
              "    </tr>\n",
              "  </tbody>\n",
              "</table>\n",
              "</div>\n",
              "    <div class=\"colab-df-buttons\">\n",
              "\n",
              "  <div class=\"colab-df-container\">\n",
              "    <button class=\"colab-df-convert\" onclick=\"convertToInteractive('df-957af2b6-4720-4709-8cca-9e6d28f02e01')\"\n",
              "            title=\"Convert this dataframe to an interactive table.\"\n",
              "            style=\"display:none;\">\n",
              "\n",
              "  <svg xmlns=\"http://www.w3.org/2000/svg\" height=\"24px\" viewBox=\"0 -960 960 960\">\n",
              "    <path d=\"M120-120v-720h720v720H120Zm60-500h600v-160H180v160Zm220 220h160v-160H400v160Zm0 220h160v-160H400v160ZM180-400h160v-160H180v160Zm440 0h160v-160H620v160ZM180-180h160v-160H180v160Zm440 0h160v-160H620v160Z\"/>\n",
              "  </svg>\n",
              "    </button>\n",
              "\n",
              "  <style>\n",
              "    .colab-df-container {\n",
              "      display:flex;\n",
              "      gap: 12px;\n",
              "    }\n",
              "\n",
              "    .colab-df-convert {\n",
              "      background-color: #E8F0FE;\n",
              "      border: none;\n",
              "      border-radius: 50%;\n",
              "      cursor: pointer;\n",
              "      display: none;\n",
              "      fill: #1967D2;\n",
              "      height: 32px;\n",
              "      padding: 0 0 0 0;\n",
              "      width: 32px;\n",
              "    }\n",
              "\n",
              "    .colab-df-convert:hover {\n",
              "      background-color: #E2EBFA;\n",
              "      box-shadow: 0px 1px 2px rgba(60, 64, 67, 0.3), 0px 1px 3px 1px rgba(60, 64, 67, 0.15);\n",
              "      fill: #174EA6;\n",
              "    }\n",
              "\n",
              "    .colab-df-buttons div {\n",
              "      margin-bottom: 4px;\n",
              "    }\n",
              "\n",
              "    [theme=dark] .colab-df-convert {\n",
              "      background-color: #3B4455;\n",
              "      fill: #D2E3FC;\n",
              "    }\n",
              "\n",
              "    [theme=dark] .colab-df-convert:hover {\n",
              "      background-color: #434B5C;\n",
              "      box-shadow: 0px 1px 3px 1px rgba(0, 0, 0, 0.15);\n",
              "      filter: drop-shadow(0px 1px 2px rgba(0, 0, 0, 0.3));\n",
              "      fill: #FFFFFF;\n",
              "    }\n",
              "  </style>\n",
              "\n",
              "    <script>\n",
              "      const buttonEl =\n",
              "        document.querySelector('#df-957af2b6-4720-4709-8cca-9e6d28f02e01 button.colab-df-convert');\n",
              "      buttonEl.style.display =\n",
              "        google.colab.kernel.accessAllowed ? 'block' : 'none';\n",
              "\n",
              "      async function convertToInteractive(key) {\n",
              "        const element = document.querySelector('#df-957af2b6-4720-4709-8cca-9e6d28f02e01');\n",
              "        const dataTable =\n",
              "          await google.colab.kernel.invokeFunction('convertToInteractive',\n",
              "                                                    [key], {});\n",
              "        if (!dataTable) return;\n",
              "\n",
              "        const docLinkHtml = 'Like what you see? Visit the ' +\n",
              "          '<a target=\"_blank\" href=https://colab.research.google.com/notebooks/data_table.ipynb>data table notebook</a>'\n",
              "          + ' to learn more about interactive tables.';\n",
              "        element.innerHTML = '';\n",
              "        dataTable['output_type'] = 'display_data';\n",
              "        await google.colab.output.renderOutput(dataTable, element);\n",
              "        const docLink = document.createElement('div');\n",
              "        docLink.innerHTML = docLinkHtml;\n",
              "        element.appendChild(docLink);\n",
              "      }\n",
              "    </script>\n",
              "  </div>\n",
              "\n",
              "\n",
              "<div id=\"df-f153ed78-75f6-46a4-80f1-8bf146ec0901\">\n",
              "  <button class=\"colab-df-quickchart\" onclick=\"quickchart('df-f153ed78-75f6-46a4-80f1-8bf146ec0901')\"\n",
              "            title=\"Suggest charts\"\n",
              "            style=\"display:none;\">\n",
              "\n",
              "<svg xmlns=\"http://www.w3.org/2000/svg\" height=\"24px\"viewBox=\"0 0 24 24\"\n",
              "     width=\"24px\">\n",
              "    <g>\n",
              "        <path d=\"M19 3H5c-1.1 0-2 .9-2 2v14c0 1.1.9 2 2 2h14c1.1 0 2-.9 2-2V5c0-1.1-.9-2-2-2zM9 17H7v-7h2v7zm4 0h-2V7h2v10zm4 0h-2v-4h2v4z\"/>\n",
              "    </g>\n",
              "</svg>\n",
              "  </button>\n",
              "\n",
              "<style>\n",
              "  .colab-df-quickchart {\n",
              "      --bg-color: #E8F0FE;\n",
              "      --fill-color: #1967D2;\n",
              "      --hover-bg-color: #E2EBFA;\n",
              "      --hover-fill-color: #174EA6;\n",
              "      --disabled-fill-color: #AAA;\n",
              "      --disabled-bg-color: #DDD;\n",
              "  }\n",
              "\n",
              "  [theme=dark] .colab-df-quickchart {\n",
              "      --bg-color: #3B4455;\n",
              "      --fill-color: #D2E3FC;\n",
              "      --hover-bg-color: #434B5C;\n",
              "      --hover-fill-color: #FFFFFF;\n",
              "      --disabled-bg-color: #3B4455;\n",
              "      --disabled-fill-color: #666;\n",
              "  }\n",
              "\n",
              "  .colab-df-quickchart {\n",
              "    background-color: var(--bg-color);\n",
              "    border: none;\n",
              "    border-radius: 50%;\n",
              "    cursor: pointer;\n",
              "    display: none;\n",
              "    fill: var(--fill-color);\n",
              "    height: 32px;\n",
              "    padding: 0;\n",
              "    width: 32px;\n",
              "  }\n",
              "\n",
              "  .colab-df-quickchart:hover {\n",
              "    background-color: var(--hover-bg-color);\n",
              "    box-shadow: 0 1px 2px rgba(60, 64, 67, 0.3), 0 1px 3px 1px rgba(60, 64, 67, 0.15);\n",
              "    fill: var(--button-hover-fill-color);\n",
              "  }\n",
              "\n",
              "  .colab-df-quickchart-complete:disabled,\n",
              "  .colab-df-quickchart-complete:disabled:hover {\n",
              "    background-color: var(--disabled-bg-color);\n",
              "    fill: var(--disabled-fill-color);\n",
              "    box-shadow: none;\n",
              "  }\n",
              "\n",
              "  .colab-df-spinner {\n",
              "    border: 2px solid var(--fill-color);\n",
              "    border-color: transparent;\n",
              "    border-bottom-color: var(--fill-color);\n",
              "    animation:\n",
              "      spin 1s steps(1) infinite;\n",
              "  }\n",
              "\n",
              "  @keyframes spin {\n",
              "    0% {\n",
              "      border-color: transparent;\n",
              "      border-bottom-color: var(--fill-color);\n",
              "      border-left-color: var(--fill-color);\n",
              "    }\n",
              "    20% {\n",
              "      border-color: transparent;\n",
              "      border-left-color: var(--fill-color);\n",
              "      border-top-color: var(--fill-color);\n",
              "    }\n",
              "    30% {\n",
              "      border-color: transparent;\n",
              "      border-left-color: var(--fill-color);\n",
              "      border-top-color: var(--fill-color);\n",
              "      border-right-color: var(--fill-color);\n",
              "    }\n",
              "    40% {\n",
              "      border-color: transparent;\n",
              "      border-right-color: var(--fill-color);\n",
              "      border-top-color: var(--fill-color);\n",
              "    }\n",
              "    60% {\n",
              "      border-color: transparent;\n",
              "      border-right-color: var(--fill-color);\n",
              "    }\n",
              "    80% {\n",
              "      border-color: transparent;\n",
              "      border-right-color: var(--fill-color);\n",
              "      border-bottom-color: var(--fill-color);\n",
              "    }\n",
              "    90% {\n",
              "      border-color: transparent;\n",
              "      border-bottom-color: var(--fill-color);\n",
              "    }\n",
              "  }\n",
              "</style>\n",
              "\n",
              "  <script>\n",
              "    async function quickchart(key) {\n",
              "      const quickchartButtonEl =\n",
              "        document.querySelector('#' + key + ' button');\n",
              "      quickchartButtonEl.disabled = true;  // To prevent multiple clicks.\n",
              "      quickchartButtonEl.classList.add('colab-df-spinner');\n",
              "      try {\n",
              "        const charts = await google.colab.kernel.invokeFunction(\n",
              "            'suggestCharts', [key], {});\n",
              "      } catch (error) {\n",
              "        console.error('Error during call to suggestCharts:', error);\n",
              "      }\n",
              "      quickchartButtonEl.classList.remove('colab-df-spinner');\n",
              "      quickchartButtonEl.classList.add('colab-df-quickchart-complete');\n",
              "    }\n",
              "    (() => {\n",
              "      let quickchartButtonEl =\n",
              "        document.querySelector('#df-f153ed78-75f6-46a4-80f1-8bf146ec0901 button');\n",
              "      quickchartButtonEl.style.display =\n",
              "        google.colab.kernel.accessAllowed ? 'block' : 'none';\n",
              "    })();\n",
              "  </script>\n",
              "</div>\n",
              "\n",
              "  <div id=\"id_cb94e616-1497-4814-8c4c-f58b4bc6f223\">\n",
              "    <style>\n",
              "      .colab-df-generate {\n",
              "        background-color: #E8F0FE;\n",
              "        border: none;\n",
              "        border-radius: 50%;\n",
              "        cursor: pointer;\n",
              "        display: none;\n",
              "        fill: #1967D2;\n",
              "        height: 32px;\n",
              "        padding: 0 0 0 0;\n",
              "        width: 32px;\n",
              "      }\n",
              "\n",
              "      .colab-df-generate:hover {\n",
              "        background-color: #E2EBFA;\n",
              "        box-shadow: 0px 1px 2px rgba(60, 64, 67, 0.3), 0px 1px 3px 1px rgba(60, 64, 67, 0.15);\n",
              "        fill: #174EA6;\n",
              "      }\n",
              "\n",
              "      [theme=dark] .colab-df-generate {\n",
              "        background-color: #3B4455;\n",
              "        fill: #D2E3FC;\n",
              "      }\n",
              "\n",
              "      [theme=dark] .colab-df-generate:hover {\n",
              "        background-color: #434B5C;\n",
              "        box-shadow: 0px 1px 3px 1px rgba(0, 0, 0, 0.15);\n",
              "        filter: drop-shadow(0px 1px 2px rgba(0, 0, 0, 0.3));\n",
              "        fill: #FFFFFF;\n",
              "      }\n",
              "    </style>\n",
              "    <button class=\"colab-df-generate\" onclick=\"generateWithVariable('df')\"\n",
              "            title=\"Generate code using this dataframe.\"\n",
              "            style=\"display:none;\">\n",
              "\n",
              "  <svg xmlns=\"http://www.w3.org/2000/svg\" height=\"24px\"viewBox=\"0 0 24 24\"\n",
              "       width=\"24px\">\n",
              "    <path d=\"M7,19H8.4L18.45,9,17,7.55,7,17.6ZM5,21V16.75L18.45,3.32a2,2,0,0,1,2.83,0l1.4,1.43a1.91,1.91,0,0,1,.58,1.4,1.91,1.91,0,0,1-.58,1.4L9.25,21ZM18.45,9,17,7.55Zm-12,3A5.31,5.31,0,0,0,4.9,8.1,5.31,5.31,0,0,0,1,6.5,5.31,5.31,0,0,0,4.9,4.9,5.31,5.31,0,0,0,6.5,1,5.31,5.31,0,0,0,8.1,4.9,5.31,5.31,0,0,0,12,6.5,5.46,5.46,0,0,0,6.5,12Z\"/>\n",
              "  </svg>\n",
              "    </button>\n",
              "    <script>\n",
              "      (() => {\n",
              "      const buttonEl =\n",
              "        document.querySelector('#id_cb94e616-1497-4814-8c4c-f58b4bc6f223 button.colab-df-generate');\n",
              "      buttonEl.style.display =\n",
              "        google.colab.kernel.accessAllowed ? 'block' : 'none';\n",
              "\n",
              "      buttonEl.onclick = () => {\n",
              "        google.colab.notebook.generateWithVariable('df');\n",
              "      }\n",
              "      })();\n",
              "    </script>\n",
              "  </div>\n",
              "\n",
              "    </div>\n",
              "  </div>\n"
            ],
            "application/vnd.google.colaboratory.intrinsic+json": {
              "type": "dataframe",
              "variable_name": "df",
              "summary": "{\n  \"name\": \"df\",\n  \"rows\": 3,\n  \"fields\": [\n    {\n      \"column\": \"Tasa de aprendizaje\",\n      \"properties\": {\n        \"dtype\": \"number\",\n        \"std\": 0.011489270356873553,\n        \"min\": 0.0001,\n        \"max\": 0.02,\n        \"num_unique_values\": 2,\n        \"samples\": [\n          0.02,\n          0.0001\n        ],\n        \"semantic_type\": \"\",\n        \"description\": \"\"\n      }\n    },\n    {\n      \"column\": \"Precisi\\u00f3n de entrenamiento\",\n      \"properties\": {\n        \"dtype\": \"string\",\n        \"num_unique_values\": 3,\n        \"samples\": [\n          \"91.91%\",\n          \"95.61%\"\n        ],\n        \"semantic_type\": \"\",\n        \"description\": \"\"\n      }\n    },\n    {\n      \"column\": \"Precisi\\u00f3n de prueba\",\n      \"properties\": {\n        \"dtype\": \"string\",\n        \"num_unique_values\": 3,\n        \"samples\": [\n          \"92.36%\",\n          \"94.09%\"\n        ],\n        \"semantic_type\": \"\",\n        \"description\": \"\"\n      }\n    },\n    {\n      \"column\": \"Precisi\\u00f3n de validaci\\u00f3n\",\n      \"properties\": {\n        \"dtype\": \"string\",\n        \"num_unique_values\": 3,\n        \"samples\": [\n          \"93.12%\",\n          \"95.24%\"\n        ],\n        \"semantic_type\": \"\",\n        \"description\": \"\"\n      }\n    },\n    {\n      \"column\": \"Tiempo de entrenamiento (s)\",\n      \"properties\": {\n        \"dtype\": \"string\",\n        \"num_unique_values\": 3,\n        \"samples\": [\n          \"13.06\",\n          \"12.69\"\n        ],\n        \"semantic_type\": \"\",\n        \"description\": \"\"\n      }\n    }\n  ]\n}"
            }
          },
          "metadata": {},
          "execution_count": 27
        }
      ]
    }
  ],
  "metadata": {
    "kernelspec": {
      "display_name": "Python 3 (ipykernel)",
      "language": "python",
      "name": "python3"
    },
    "language_info": {
      "codemirror_mode": {
        "name": "ipython",
        "version": 3
      },
      "file_extension": ".py",
      "mimetype": "text/x-python",
      "name": "python",
      "nbconvert_exporter": "python",
      "pygments_lexer": "ipython3",
      "version": "3.11.3"
    },
    "colab": {
      "provenance": []
    }
  },
  "nbformat": 4,
  "nbformat_minor": 0
}
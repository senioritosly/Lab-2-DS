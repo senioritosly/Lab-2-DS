{
  "cells": [
    {
      "cell_type": "markdown",
      "metadata": {
        "id": "yFBGfO_aEugR"
      },
      "source": [
        "# Laboratorio 2 - Respuestas"
      ]
    },
    {
      "cell_type": "markdown",
      "metadata": {
        "id": "2r0BrRxJEugU"
      },
      "source": [
        "**1. El ancho (tamaño de la capa escondida) del algoritmo. Intenten con un tamaño de 200. ¿Cómo cambia la precisión de validación del modelo? ¿Cuánto tiempo se tardó el algoritmo en entrenar? ¿Puede encontrar un tamaño de capa escondida que funcione mejor?**\n",
        "\n",
        "El entrenamiento tarda 6.9 segundos y no 7.8 segundos como era originalmente, usando un tamaño de capa escondida de 200. La precisión de validación del modelo es de 97.18%, es decir, el modelo mejora en un 1.9%. Se intentó con un tamaño de 10000 y el kernel ha explotado. Luego se intentó con 700 y no se presentó una mejora significativa."
      ]
    },
    {
      "cell_type": "markdown",
      "metadata": {
        "id": "xm_UiME4EugV"
      },
      "source": [
        "**2. La profundidad del algoritmo. Agreguen una capa escondida más al algoritmo.\n",
        "Este es un ejercicio extremadamente importante! ¿Cómo cambia la precisión\n",
        "de validación? ¿Qué hay del tiempo que se tarda en ejecutar? Pista: deben\n",
        "tener cuidado con las formas (dimensiones) de los pesos y los sesgos.**\n",
        "\n",
        "Con un tamaño de capa escondida de 200 y una capa escondida más, la precisión de validación del modelo es de 97.29%, por lo que se concluye que no cambia significativamente en comparación con dos capas escondidas. El tiempo es de 7.4s, por lo tanto, es más lento."
      ]
    },
    {
      "cell_type": "markdown",
      "metadata": {
        "id": "9VtgSpNFEugW"
      },
      "source": [
        "**3. El ancho y la profundidad del algoritmo. Agregue cuantas capas sean\n",
        "necesarias para llegar a 5 capas escondidas. Es más, ajusten el ancho del\n",
        "algoritmo conforme lo encuentre más conveniente. ¿Cómo cambia la precisión\n",
        "de validación? ¿Qué hay del tiempo de ejecución?**\n",
        "\n",
        "Se modificó el ancho de la capa escondida a 400 y se agregaron 2 capas más. La precisión de validación del modelo es de 97.13%, nuevamente, no cambia significativamente. El tiempo de ejecución de entrenamiento es de 14.0s. En comparación a 2 y 3 capas, 5 capas hace que sea más lento el proceso aún más."
      ]
    },
    {
      "cell_type": "markdown",
      "metadata": {
        "id": "BL-uzughEugX"
      },
      "source": [
        "**4. Experimenten con las funciones de activación. Intenten aplicar una\n",
        "transformación sigmoidal a ambas capas. La activación sigmoidal se obtiene\n",
        "escribiendo “sigmoid” (Ojo, hay que verificar si en las versiones más recientes\n",
        "de Tensorflow sigue siendo así)**\n",
        "\n",
        "Aplicando la transformación sigmoidal, se encontró una presición de 96.44%, es decir, menor a la anterior. El tiempo de ejecución fue de 8.8 segundos, o sea que sí aumenta y tiene menor precisión."
      ]
    },
    {
      "cell_type": "markdown",
      "metadata": {
        "id": "czup_nc_EugX"
      },
      "source": [
        "**5. Continúen experimentando con las funciones de activación. Intenten aplicar un\n",
        "ReLu a la primera capa escondida y tanh a la segunda. La activación tanh se\n",
        "obtiene escribiendo “tanh”. (Ojo, hay que verificar si en las versiones más\n",
        "recientes de Tensorflow sigue siendo así)**\n",
        "\n",
        "El modelo presentó nuevamente una precisión de 96% y un tiempo de ejecución de 6.4s, por lo tanto, quizá no mejora la precisión pero el tiempo de ejecución sí."
      ]
    },
    {
      "cell_type": "markdown",
      "metadata": {
        "id": "Tx8bfHpGEugY"
      },
      "source": [
        "**6. Ajusten el tamaño de la tanda. Prueben con un tamaño de tanda de 10,000.\n",
        "¿Cómo cambia el tiempo requerido? ¿Cómo cambia la precisión?**\n",
        "\n",
        "Con un tamaño de tanda de 10,000, el modelo entrena rápidamente pero con baja precisión, lo que sugiere un aprendizaje subóptimo. Con un tamaño de tanda de 1, el modelo alcanza alta precisión pero a costa de un tiempo de entrenamiento mucho mayor. Un tamaño de tanda intermedio podría balancear mejor la precisión y el tiempo de entrenamiento."
      ]
    },
    {
      "cell_type": "markdown",
      "metadata": {
        "id": "tN69oSmdEugZ"
      },
      "source": [
        "**7. Ajusten el tamaño de la tanda a 1. Eso corresponde al SGD. ¿Cómo cambian\n",
        "el tiempo y la precisión? ¿Es el resultado coherente con la teoría?**\n",
        "\n",
        "Un tamaño de tanda de 10,000 entrena rápido pero con baja precisión, mientras que un tamaño de tanda de 1 (SGD) mejora la precisión significativamente pero aumenta mucho el tiempo de entrenamiento. Un tamaño de tanda intermedio podría ofrecer un mejor equilibrio entre precisión y eficiencia."
      ]
    },
    {
      "cell_type": "markdown",
      "metadata": {
        "id": "lk-Cnlm0EugZ"
      },
      "source": [
        "**8. Ajusten la tasa de aprendizaje. Prueben con un valor de 0.0001. ¿Hace\n",
        "alguna diferencia?**\n",
        "\n",
        "Una tasa de aprendizaje de 0.0200 mejora la precisión en entrenamiento, prueba y validación en comparación con 0.0001, con un tiempo de entrenamiento similar. Esto indica que una tasa de aprendizaje más alta puede ser más efectiva para optimizar el modelo"
      ]
    },
    {
      "cell_type": "markdown",
      "metadata": {
        "id": "PJoDtTmuEugZ"
      },
      "source": [
        "**9. Ajusten la tasa de aprendizaje a 0.02. ¿Hay alguna diferencia?**\n",
        "\n",
        "Una tasa de aprendizaje de 0.02 mejora la precisión del modelo en entrenamiento, prueba y validación en comparación con una tasa más baja de 0.0001. Esto sugiere que una tasa de aprendizaje más alta puede acelerar la convergencia y mejorar el rendimiento del modelo."
      ]
    },
    {
      "cell_type": "markdown",
      "metadata": {
        "id": "yUWhhpHKEugZ"
      },
      "source": [
        "**10. Combinen todos los métodos indicados arriba e intenten llegar a una precisión\n",
        "de validación de 98.5% o más**\n",
        "\n",
        "Al combinar un tamaño de tanda de 200, una capa escondida de 1024 unidades, una tasa de aprendizaje de 0.0006561 y entrenando durante 50 épocas, lograste una precisión de entrenamiento del 100%, una precisión de prueba del 97.91% y una precisión de validación del 98.25%, con un tiempo de entrenamiento de 510.80 segundos. Esto indica que con una configuración adecuada de hiperparámetros y un tamaño de capa suficientemente grande, puedes alcanzar una alta precisión en el modelo, superando el objetivo de 98.5% en la precisión de validación."
      ]
    }
  ],
  "metadata": {
    "language_info": {
      "name": "python"
    },
    "colab": {
      "provenance": []
    }
  },
  "nbformat": 4,
  "nbformat_minor": 0
}
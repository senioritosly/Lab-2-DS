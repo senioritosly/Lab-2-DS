{
 "cells": [
  {
   "cell_type": "markdown",
   "metadata": {},
   "source": [
    "# Laboratorio 2 - Respuestas"
   ]
  },
  {
   "cell_type": "markdown",
   "metadata": {},
   "source": [
    "**1. El ancho (tamaño de la capa escondida) del algoritmo. Intenten con un tamaño de 200. ¿Cómo cambia la precisión de validación del modelo? ¿Cuánto tiempo se tardó el algoritmo en entrenar? ¿Puede encontrar un tamaño de capa escondida que funcione mejor?**\n",
    "\n",
    "El entrenamiento tarda 6.9 segundos y no 7.8 segundos como era originalmente, usando un tamaño de capa escondida de 200. La precisión de validación del modelo es de 97.18%, es decir, el modelo mejora en un 1.9%. Se intentó con un tamaño de 10000 y el kernel ha explotado. Luego se intentó con 700 y no se presentó una mejora significativa."
   ]
  },
  {
   "cell_type": "markdown",
   "metadata": {},
   "source": [
    "**2. La profundidad del algoritmo. Agreguen una capa escondida más al algoritmo.\n",
    "Este es un ejercicio extremadamente importante! ¿Cómo cambia la precisión\n",
    "de validación? ¿Qué hay del tiempo que se tarda en ejecutar? Pista: deben\n",
    "tener cuidado con las formas (dimensiones) de los pesos y los sesgos.**"
   ]
  },
  {
   "cell_type": "markdown",
   "metadata": {},
   "source": [
    "**3. El ancho y la profundidad del algoritmo. Agregue cuantas capas sean\n",
    "necesarias para llegar a 5 capas escondidas. Es más, ajusten el ancho del\n",
    "algoritmo conforme lo encuentre más conveniente. ¿Cómo cambia la precisión\n",
    "de validación? ¿Qué hay del tiempo de ejecución?**"
   ]
  },
  {
   "cell_type": "markdown",
   "metadata": {},
   "source": [
    "**4. Experimenten con las funciones de activación. Intenten aplicar una\n",
    "transformación sigmoidal a ambas capas. La activación sigmoidal se obtiene\n",
    "escribiendo “sigmoid” (Ojo, hay que verificar si en las versiones más recientes\n",
    "de Tensorflow sigue siendo así)**"
   ]
  },
  {
   "cell_type": "markdown",
   "metadata": {},
   "source": [
    "**5. Continúen experimentando con las funciones de activación. Intenten aplicar un\n",
    "ReLu a la primera capa escondida y tanh a la segunda. La activación tanh se\n",
    "obtiene escribiendo “tanh”. (Ojo, hay que verificar si en las versiones más\n",
    "recientes de Tensorflow sigue siendo así)**"
   ]
  },
  {
   "cell_type": "markdown",
   "metadata": {},
   "source": [
    "**6. Ajusten el tamaño de la tanda. Prueben con un tamaño de tanda de 10,000.\n",
    "¿Cómo cambia el tiempo requerido? ¿Cómo cambia la precisión?**"
   ]
  },
  {
   "cell_type": "markdown",
   "metadata": {},
   "source": [
    "**7. Ajusten el tamaño de la tanda a 1. Eso corresponde al SGD. ¿Cómo cambian\n",
    "el tiempo y la precisión? ¿Es el resultado coherente con la teoría?**"
   ]
  },
  {
   "cell_type": "markdown",
   "metadata": {},
   "source": [
    "**8. Ajusten la tasa de aprendizaje. Prueben con un valor de 0.0001. ¿Hace\n",
    "alguna diferencia?**"
   ]
  },
  {
   "cell_type": "markdown",
   "metadata": {},
   "source": [
    "**9. Ajusten la tasa de aprendizaje a 0.02. ¿Hay alguna diferencia?**"
   ]
  },
  {
   "cell_type": "markdown",
   "metadata": {},
   "source": [
    "**10. Combinen todos los métodos indicados arriba e intenten llegar a una precisión\n",
    "de validación de 98.5% o más**"
   ]
  }
 ],
 "metadata": {
  "language_info": {
   "name": "python"
  }
 },
 "nbformat": 4,
 "nbformat_minor": 2
}
